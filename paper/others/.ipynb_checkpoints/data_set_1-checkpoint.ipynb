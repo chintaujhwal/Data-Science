{
 "cells": [
  {
   "cell_type": "code",
   "execution_count": 1,
   "metadata": {},
   "outputs": [],
   "source": [
    "import pandas as pd"
   ]
  },
  {
   "cell_type": "code",
   "execution_count": 2,
   "metadata": {},
   "outputs": [],
   "source": [
    "df = pd.read_csv(\"address_names.csv\")"
   ]
  },
  {
   "cell_type": "code",
   "execution_count": 3,
   "metadata": {},
   "outputs": [
    {
     "data": {
      "text/plain": [
       "Index(['Publication Year', 'Author Full Names', 'Article Title',\n",
       "       'Source Title', 'Language', 'Document Type', 'Author Keywords',\n",
       "       'Keywords Plus', 'Abstract', 'Addresses', 'Leaders', 'Email Addresses',\n",
       "       'Funding Orgs', 'Funding Text', 'Cited Reference Count',\n",
       "       'Times Cited, All Databases', 'Since 2013 Usage Count', 'DOI',\n",
       "       'Research Areas', 'IDS Number', 'UT (Unique WOS ID)',\n",
       "       'Open Access Designations', 'Date of Export'],\n",
       "      dtype='object')"
      ]
     },
     "execution_count": 3,
     "metadata": {},
     "output_type": "execute_result"
    }
   ],
   "source": [
    "df.columns"
   ]
  },
  {
   "cell_type": "code",
   "execution_count": 4,
   "metadata": {},
   "outputs": [],
   "source": [
    "authors_data = df['Addresses']\n",
    "leaders_data = df['Leaders']"
   ]
  },
  {
   "cell_type": "code",
   "execution_count": 5,
   "metadata": {},
   "outputs": [],
   "source": [
    "def getLeader(text):\n",
    "    data = {}\n",
    "    data[\"leader_last_name\"] = text.split(\",\",1)[0]\n",
    "    data[\"leader_country\"] = text.replace(\".\",\"\").strip().split(\" \")[-1]\n",
    "    return data"
   ]
  },
  {
   "cell_type": "code",
   "execution_count": 20,
   "metadata": {},
   "outputs": [],
   "source": [
    "def getAuthors(text):\n",
    "    data = []\n",
    "    addresses = text.split(\"[\")[1:]\n",
    "    for i in addresses:\n",
    "        address = i.replace(\"\\n\",\"\").strip();\n",
    "        if address[-1] == \";\":\n",
    "            address = address[:-1]   \n",
    "        address = address.split(\"]\")    \n",
    "        address_parts = address[1].split(\",\")\n",
    "        university = address_parts[0]\n",
    "        department = address_parts[1]\n",
    "        country = address_parts[-1].split(\" \")[-1]\n",
    "        authors = address[0].replace(\".\",\"\").split(\";\")\n",
    "        for j in authors:\n",
    "            author = {}\n",
    "            name = j.replace(\"-\",\" \").split(\",\",1)\n",
    "            author[\"first_name\"] = name[-1].strip()\n",
    "            author[\"last_name\"] = name[0].strip()\n",
    "            author[\"full_name\"] = author[\"first_name\"] + \" \" + author[\"last_name\"]\n",
    "            author[\"department\"] = department.replace(\"dept\",\"\").replace(\"Dept\",\"\").strip()\n",
    "            author[\"university\"] = university.strip()\n",
    "            author[\"country\"] = country.strip()\n",
    "            data.append(author)\n",
    "    return data"
   ]
  },
  {
   "cell_type": "code",
   "execution_count": 21,
   "metadata": {},
   "outputs": [
    {
     "name": "stdout",
     "output_type": "stream",
     "text": [
      "4016\n"
     ]
    }
   ],
   "source": [
    "authors = []\n",
    "for i in authors_data:\n",
    "    authors.append(getAuthors(i))\n",
    "print(len(authors))    "
   ]
  },
  {
   "cell_type": "code",
   "execution_count": 22,
   "metadata": {},
   "outputs": [
    {
     "name": "stdout",
     "output_type": "stream",
     "text": [
      "4016\n"
     ]
    }
   ],
   "source": [
    "leaders = []\n",
    "for i in leaders_data:\n",
    "    leaders.append(getLeader(i))\n",
    "print(len(leaders))"
   ]
  },
  {
   "cell_type": "code",
   "execution_count": 23,
   "metadata": {},
   "outputs": [],
   "source": [
    "ut = df['UT (Unique WOS ID)']\n",
    "year = df['Publication Year']\n",
    "article = df['Article Title']\n",
    "source = df['Source Title']\n",
    "areas = df['Research Areas']"
   ]
  },
  {
   "cell_type": "code",
   "execution_count": 24,
   "metadata": {},
   "outputs": [],
   "source": [
    "def addLeaders(authors_data, leaders_data, ut_data, year_data, article_data, source_data, areas_data):\n",
    "    result = []\n",
    "    for authors,leader,ut,year,article,source,areas in zip(authors_data, leaders_data, ut_data, year_data, article_data, source_data, areas_data):\n",
    "        leader_last_name = leader['leader_last_name']\n",
    "        x_ut = ut\n",
    "        x_year = year\n",
    "        x_article = article\n",
    "        x_source = source\n",
    "        x_areas = areas\n",
    "        leader_name = \"\"\n",
    "        temp = []\n",
    "        for i in authors:\n",
    "            if i['last_name'] == leader_last_name:\n",
    "                leader_name = i['full_name']\n",
    "        for j in authors:\n",
    "            j['leader'] = leader_name\n",
    "            j['UT (Unique WOS ID)'] = x_ut\n",
    "            j['Publication Year'] = x_year\n",
    "            j['Article Title)'] = x_article\n",
    "            j['Source Title)'] = x_source\n",
    "            j['Research Areas'] = x_areas\n",
    "            temp.append(j)\n",
    "        result.append(temp)\n",
    "    return result"
   ]
  },
  {
   "cell_type": "code",
   "execution_count": 25,
   "metadata": {},
   "outputs": [
    {
     "name": "stdout",
     "output_type": "stream",
     "text": [
      "<class 'pandas.core.series.Series'>\n"
     ]
    }
   ],
   "source": [
    "print(type(ut))\n"
   ]
  },
  {
   "cell_type": "code",
   "execution_count": 26,
   "metadata": {},
   "outputs": [
    {
     "name": "stdout",
     "output_type": "stream",
     "text": [
      "<class 'list'>\n"
     ]
    }
   ],
   "source": [
    "print(type(authors))"
   ]
  },
  {
   "cell_type": "code",
   "execution_count": 27,
   "metadata": {},
   "outputs": [
    {
     "name": "stdout",
     "output_type": "stream",
     "text": [
      "0       [{'first_name': 'Habib Allah', 'last_name': 'A...\n",
      "1       [{'first_name': 'Aumber', 'last_name': 'Abbas'...\n",
      "2       [{'first_name': 'Mandi', 'last_name': 'Abbasi'...\n",
      "3       [{'first_name': 'S', 'last_name': 'Abdalla', '...\n",
      "4       [{'first_name': 'Soliman', 'last_name': 'Abdal...\n",
      "                              ...                        \n",
      "4011    [{'first_name': 'Yi', 'last_name': 'Zhu', 'ful...\n",
      "4012    [{'first_name': 'Youjia', 'last_name': 'Zou', ...\n",
      "4013    [{'first_name': 'M A', 'last_name': 'Zrir', 'f...\n",
      "4014    [{'first_name': 'T I', 'last_name': 'Zubar', '...\n",
      "4015    [{'first_name': 'Hai Ning', 'last_name': 'Zuo'...\n",
      "Length: 4016, dtype: object <class 'pandas.core.series.Series'>\n"
     ]
    }
   ],
   "source": [
    "authors = pd.Series(authors)\n",
    "print(authors,type(authors))"
   ]
  },
  {
   "cell_type": "code",
   "execution_count": 28,
   "metadata": {},
   "outputs": [
    {
     "name": "stdout",
     "output_type": "stream",
     "text": [
      "0       {'leader_last_name': 'Nojavan', 'leader_countr...\n",
      "1       {'leader_last_name': 'Ullah', 'leader_country'...\n",
      "2       {'leader_last_name': 'Sharifi', 'leader_countr...\n",
      "3       {'leader_last_name': 'Abdalla', 'leader_countr...\n",
      "4       {'leader_last_name': 'Abdalla', 'leader_countr...\n",
      "                              ...                        \n",
      "4011    {'leader_last_name': 'Wang', 'leader_country':...\n",
      "4012    {'leader_last_name': 'Xi', 'leader_country': '...\n",
      "4013    {'leader_last_name': 'Zrir', 'leader_country':...\n",
      "4014    {'leader_last_name': 'Zubar', 'leader_country'...\n",
      "4015    {'leader_last_name': 'Xin', 'leader_country': ...\n",
      "Length: 4016, dtype: object <class 'pandas.core.series.Series'>\n"
     ]
    }
   ],
   "source": [
    "leaders = pd.Series(leaders)\n",
    "print(leaders,type(leaders))"
   ]
  },
  {
   "cell_type": "code",
   "execution_count": 29,
   "metadata": {},
   "outputs": [],
   "source": [
    "df1 = pd.concat([authors, leaders,ut,year,article,source,areas], axis=1)"
   ]
  },
  {
   "cell_type": "code",
   "execution_count": 30,
   "metadata": {},
   "outputs": [
    {
     "name": "stdout",
     "output_type": "stream",
     "text": [
      "<class 'pandas.core.frame.DataFrame'>\n"
     ]
    }
   ],
   "source": [
    "print(type(df1))"
   ]
  },
  {
   "cell_type": "code",
   "execution_count": 31,
   "metadata": {},
   "outputs": [
    {
     "name": "stdout",
     "output_type": "stream",
     "text": [
      "                                                   0  \\\n",
      "0  [{'first_name': 'Habib Allah', 'last_name': 'A...   \n",
      "1  [{'first_name': 'Aumber', 'last_name': 'Abbas'...   \n",
      "2  [{'first_name': 'Mandi', 'last_name': 'Abbasi'...   \n",
      "3  [{'first_name': 'S', 'last_name': 'Abdalla', '...   \n",
      "4  [{'first_name': 'Soliman', 'last_name': 'Abdal...   \n",
      "5  [{'first_name': 'Abderrahman', 'last_name': 'A...   \n",
      "6  [{'first_name': 'Fatemeh Soghra', 'last_name':...   \n",
      "7  [{'first_name': 'Radhwan M', 'last_name': 'Abd...   \n",
      "8  [{'first_name': 'Abdulkareem', 'last_name': 'A...   \n",
      "9  [{'first_name': 'Akrem', 'last_name': 'Abdulsi...   \n",
      "\n",
      "                                                   1   UT (Unique WOS ID)  \\\n",
      "0  {'leader_last_name': 'Nojavan', 'leader_countr...  WOS:000368078600012   \n",
      "1  {'leader_last_name': 'Ullah', 'leader_country'...  WOS:000383560600003   \n",
      "2  {'leader_last_name': 'Sharifi', 'leader_countr...  WOS:000384777800060   \n",
      "3  {'leader_last_name': 'Abdalla', 'leader_countr...  WOS:000395000000002   \n",
      "4  {'leader_last_name': 'Abdalla', 'leader_countr...  WOS:000384520900008   \n",
      "5  {'leader_last_name': 'Abdelkefi', 'leader_coun...  WOS:000253251100021   \n",
      "6  {'leader_last_name': 'Abdi', 'leader_country':...  WOS:000209609500001   \n",
      "7  {'leader_last_name': 'Abdullah', 'leader_count...  WOS:000394327800001   \n",
      "8  {'leader_last_name': 'Mustafa', 'leader_countr...  WOS:000310742200020   \n",
      "9  {'leader_last_name': 'Lyall', 'leader_country'...  WOS:000324470700011   \n",
      "\n",
      "   Publication Year                                      Article Title  \\\n",
      "0            2016.0  RETRACTED: Energy storage system and demand re...   \n",
      "1            2016.0  RETRACTED: An overview of CO2 electroreduction...   \n",
      "2            2016.0  RETRACTED: Tracer transport in naturally fract...   \n",
      "3            2017.0  RETRACTED: Safety considerations during produc...   \n",
      "4            2016.0  RETRACTED: A Bio Polymeric Adhesive Produced b...   \n",
      "5            2008.0  RETRACTED: Single autologous stem-cell transpl...   \n",
      "6            2014.0  RETRACTED: Detection of Helicobacter spp. DNA ...   \n",
      "7            2017.0  RETRACTED: Improved fast handover method for m...   \n",
      "8            2012.0  RETRACTED: Detection of bacterial endotoxin in...   \n",
      "9            2013.0  RETRACTED: Heat Shock Protein 27 Is Spatially ...   \n",
      "\n",
      "                                      Source Title  \\\n",
      "0       IET GENERATION TRANSMISSION & DISTRIBUTION   \n",
      "1              GREEN CHEMISTRY LETTERS AND REVIEWS   \n",
      "2  INTERNATIONAL JOURNAL OF HEAT AND MASS TRANSFER   \n",
      "3      JOURNAL OF RENEWABLE AND SUSTAINABLE ENERGY   \n",
      "4                                         POLYMERS   \n",
      "5                                            BLOOD   \n",
      "6                             DIAGNOSTIC PATHOLOGY   \n",
      "7                        TELECOMMUNICATION SYSTEMS   \n",
      "8          ENVIRONMENTAL MONITORING AND ASSESSMENT   \n",
      "9                                         PLOS ONE   \n",
      "\n",
      "                                      Research Areas  \n",
      "0                                        Engineering  \n",
      "1     Chemistry; Science & Technology - Other Topics  \n",
      "2             Thermodynamics; Engineering; Mechanics  \n",
      "3  Science & Technology - Other Topics; Energy & ...  \n",
      "4                                    Polymer Science  \n",
      "5                                         Hematology  \n",
      "6                                          Pathology  \n",
      "7                                 Telecommunications  \n",
      "8                   Environmental Sciences & Ecology  \n",
      "9                Science & Technology - Other Topics  \n"
     ]
    }
   ],
   "source": [
    "print(df1.head(10))"
   ]
  },
  {
   "cell_type": "code",
   "execution_count": 35,
   "metadata": {},
   "outputs": [],
   "source": [
    "df1.to_csv(\"ExD1.csv\")"
   ]
  },
  {
   "cell_type": "code",
   "execution_count": null,
   "metadata": {},
   "outputs": [],
   "source": []
  },
  {
   "cell_type": "code",
   "execution_count": null,
   "metadata": {},
   "outputs": [],
   "source": []
  }
 ],
 "metadata": {
  "kernelspec": {
   "display_name": "Python 3",
   "language": "python",
   "name": "python3"
  },
  "language_info": {
   "codemirror_mode": {
    "name": "ipython",
    "version": 3
   },
   "file_extension": ".py",
   "mimetype": "text/x-python",
   "name": "python",
   "nbconvert_exporter": "python",
   "pygments_lexer": "ipython3",
   "version": "3.8.5"
  }
 },
 "nbformat": 4,
 "nbformat_minor": 4
}
