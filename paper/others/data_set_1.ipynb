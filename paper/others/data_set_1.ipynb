{
 "cells": [
  {
   "cell_type": "code",
   "execution_count": 22,
   "metadata": {},
   "outputs": [],
   "source": [
    "import pandas as pd"
   ]
  },
  {
   "cell_type": "code",
   "execution_count": 23,
   "metadata": {},
   "outputs": [],
   "source": [
    "df = pd.read_csv(\"data_set_1.csv\")"
   ]
  },
  {
   "cell_type": "code",
   "execution_count": 24,
   "metadata": {},
   "outputs": [
    {
     "data": {
      "text/plain": [
       "Index(['Publication Year', 'Author Full Names', 'Article Title',\n",
       "       'Source Title', 'Language', 'Document Type', 'Author Keywords',\n",
       "       'Keywords Plus', 'Abstract', 'Addresses', 'Leaders', 'Email Addresses',\n",
       "       'Funding Orgs', 'Funding Text', 'Cited Reference Count',\n",
       "       'Times Cited, All Databases', 'Since 2013 Usage Count', 'DOI',\n",
       "       'Research Areas', 'IDS Number', 'UT (Unique WOS ID)',\n",
       "       'Open Access Designations', 'Date of Export'],\n",
       "      dtype='object')"
      ]
     },
     "execution_count": 24,
     "metadata": {},
     "output_type": "execute_result"
    }
   ],
   "source": [
    "df.columns"
   ]
  },
  {
   "cell_type": "code",
   "execution_count": 25,
   "metadata": {},
   "outputs": [],
   "source": [
    "authors_data = df['Addresses']\n",
    "leaders_data = df['Leaders']"
   ]
  },
  {
   "cell_type": "code",
   "execution_count": 26,
   "metadata": {},
   "outputs": [],
   "source": [
    "def getLeader(text):\n",
    "    data = {}\n",
    "    data[\"leader_last_name\"] = text.split(\",\",1)[0]\n",
    "    data[\"leader_country\"] = text.replace(\".\",\"\").strip().split(\" \")[-1]\n",
    "    return data"
   ]
  },
  {
   "cell_type": "code",
   "execution_count": 27,
   "metadata": {},
   "outputs": [],
   "source": [
    "def getAuthors(text):\n",
    "    data = []\n",
    "    addresses = text.split(\"[\")[1:]\n",
    "    for i in addresses:\n",
    "        address = i.replace(\"\\n\",\"\").strip();\n",
    "        if address[-1] == \";\":\n",
    "            address = address[:-1]   \n",
    "        address = address.split(\"]\")    \n",
    "        address_parts = address[1].split(\",\")\n",
    "        university = address_parts[0]\n",
    "        department = address_parts[1]\n",
    "        country = address_parts[-1].split(\" \")[-1]\n",
    "        authors = address[0].replace(\".\",\"\").split(\";\")\n",
    "        for j in authors:\n",
    "            author = {}\n",
    "            name = j.replace(\"-\",\" \").split(\",\",1)\n",
    "            author[\"first_name\"] = name[-1].strip()\n",
    "            author[\"last_name\"] = name[0].strip()\n",
    "            author[\"full_name\"] = author[\"first_name\"] + \" \" + author[\"last_name\"]\n",
    "            author[\"department\"] = department.replace(\"dept\",\"\").replace(\"Dept\",\"\").strip()\n",
    "            author[\"university\"] = university.strip()\n",
    "            author[\"country\"] = country.strip()\n",
    "            data.append(author)\n",
    "    return data"
   ]
  },
  {
   "cell_type": "code",
   "execution_count": 28,
   "metadata": {},
   "outputs": [
    {
     "name": "stdout",
     "output_type": "stream",
     "text": [
      "4016\n"
     ]
    }
   ],
   "source": [
    "authors = []\n",
    "for i in authors_data:\n",
    "    authors.append(getAuthors(i))\n",
    "print(len(authors))    "
   ]
  },
  {
   "cell_type": "code",
   "execution_count": 29,
   "metadata": {},
   "outputs": [
    {
     "name": "stdout",
     "output_type": "stream",
     "text": [
      "4016\n"
     ]
    }
   ],
   "source": [
    "leaders = []\n",
    "for i in leaders_data:\n",
    "    leaders.append(getLeader(i))\n",
    "print(len(leaders))"
   ]
  },
  {
   "cell_type": "code",
   "execution_count": 30,
   "metadata": {},
   "outputs": [],
   "source": [
    "ut = df['UT (Unique WOS ID)']\n",
    "year = df['Publication Year']\n",
    "article = df['Article Title']\n",
    "source = df['Source Title']\n",
    "areas = df['Research Areas']"
   ]
  },
  {
   "cell_type": "code",
   "execution_count": 31,
   "metadata": {},
   "outputs": [],
   "source": [
    "def addLeaders(authors_data, leaders_data, ut_data, year_data, article_data, source_data, areas_data):\n",
    "    result = []\n",
    "    for authors,leader,ut,year,article,source,areas in zip(authors_data, leaders_data, ut_data, year_data, article_data, source_data, areas_data):\n",
    "        leader_last_name = leader['leader_last_name']\n",
    "        x_ut = ut\n",
    "        x_year = year\n",
    "        x_article = article\n",
    "        x_source = source\n",
    "        x_areas = areas\n",
    "        leader_name = \"\"\n",
    "        temp = []\n",
    "        for i in authors:\n",
    "            if i['last_name'] == leader_last_name:\n",
    "                leader_name = i['full_name']\n",
    "        for j in authors:\n",
    "            j['leader'] = leader_name\n",
    "            j['UT (Unique WOS ID)'] = x_ut\n",
    "            j['Publication Year'] = x_year\n",
    "            j['Article Title)'] = x_article\n",
    "            j['Source Title)'] = x_source\n",
    "            j['Research Areas'] = x_areas\n",
    "            temp.append(j)\n",
    "        result.append(temp)\n",
    "    return result"
   ]
  },
  {
   "cell_type": "code",
   "execution_count": 32,
   "metadata": {},
   "outputs": [],
   "source": [
    "data = addLeaders(authors, leaders, ut, year, article, source, areas)"
   ]
  },
  {
   "cell_type": "code",
   "execution_count": 33,
   "metadata": {},
   "outputs": [
    {
     "data": {
      "text/plain": [
       "14306642"
      ]
     },
     "execution_count": 33,
     "metadata": {},
     "output_type": "execute_result"
    }
   ],
   "source": [
    "f = open(\"data.txt\", \"w\")\n",
    "f.write(str(data))"
   ]
  },
  {
   "cell_type": "code",
   "execution_count": null,
   "metadata": {},
   "outputs": [],
   "source": []
  }
 ],
 "metadata": {
  "kernelspec": {
   "display_name": "Python 3",
   "language": "python",
   "name": "python3"
  },
  "language_info": {
   "codemirror_mode": {
    "name": "ipython",
    "version": 3
   },
   "file_extension": ".py",
   "mimetype": "text/x-python",
   "name": "python",
   "nbconvert_exporter": "python",
   "pygments_lexer": "ipython3",
   "version": "3.8.5"
  }
 },
 "nbformat": 4,
 "nbformat_minor": 4
}
